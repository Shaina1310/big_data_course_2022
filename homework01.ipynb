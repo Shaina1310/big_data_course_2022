{
 "cells": [
  {
   "cell_type": "markdown",
   "metadata": {
    "nteract": {
     "transient": {
      "deleting": false
     }
    }
   },
   "source": [
    "# Homework 1 (2022) : Data Wrangling and Visualization\n",
    "\n",
    "Due date : **2022-01-30 @23h55** (this is a **hard deadline**)"
   ]
  },
  {
   "cell_type": "markdown",
   "metadata": {
    "nteract": {
     "transient": {
      "deleting": false
     }
    }
   },
   "source": [
    "## Fill this cell with your names\n",
    "\n",
    "- Ali, Shaïna, Informatique/Mathématique-Informatique\n",
    "- Apanishile, Tolulope, Informatique/Mathématique-Informatique"
   ]
  },
  {
   "cell_type": "markdown",
   "metadata": {
    "nteract": {
     "transient": {
      "deleting": false
     }
    }
   },
   "source": [
    "## Carefully follow instructions given on the [course homepage](https://stephanegaiffas.github.io/big_data_course/homeworks/)\n",
    "\n",
    "Write in English or French\n",
    "\n",
    "- The deliverable is a `xxx.ipynb` file (jupyter notebook) or a `xxx.py` file (if you are using `jupytext`) built by completing the template. **We won't execute the code in your notebook:** all your results, displays and plots must be visible without having to rerun everything.\n",
    "\n",
    "Once again, follow the steps described here : [course homepage](https://stephanegaiffas.github.io/big_data_course/homeworks/). **If you don't: no evaluation!**"
   ]
  },
  {
   "cell_type": "markdown",
   "metadata": {
    "nteract": {
     "transient": {
      "deleting": false
     }
    }
   },
   "source": [
    "## Grading <i class=\"fa graduation-cap\"></i>\n",
    "\n",
    "Here is the way we'll assess your work\n",
    "\n",
    "| Criterion | Points | Details |\n",
    "|:----------|:-------:|:----|\n",
    "|Spelling and syntax | 3 | English/French  |\n",
    "|Plots correction | 3 |  Clarity / answers the question  |\n",
    "|Plot style and cleanliness | 3 | Titles, legends, labels, breaks ... |\n",
    "|Table wrangling | 4 | ETL, SQL like manipulations |\n",
    "|Computing Statistics | 5 | SQL `goup by`  and aggregation  |\n",
    "|DRY compliance | 2 | DRY principle at [Wikipedia](https://en.wikipedia.org/wiki/Don%27t_repeat_yourself)|\n",
    "\n",
    "If we see a single (or more) `for` loop in your code: **-5 points**.  Everything can be done using high-level `pandas` methods"
   ]
  },
  {
   "cell_type": "markdown",
   "metadata": {
    "nteract": {
     "transient": {
      "deleting": false
     }
    }
   },
   "source": [
    "# Preliminaries\n",
    "\n",
    "## Notebook: Modus operandi\n",
    "\n",
    "- This is a [Jupyter Notebook]().\n",
    "- When you execute code within the notebook, the results appear beneath the code.\n",
    "- [Jupytext]()\n",
    "\n",
    "## Packages\n",
    "\n",
    "- Base `Python` can do a lot. But the full power of `Python` comes from a fast growing collection of `packages`/`modules`.\n",
    "\n",
    "- Packages are first installed (that is using `pip install` or `conda install`), and if\n",
    "needed, imported during a session.\n",
    "\n",
    "- The `docker` image you are supposed to use already offers a lot of packages. You should not need to install new packages.\n",
    "\n",
    "- Once a package has been installed on your drive, if you want all objects exported by the package to be available in your session, you should import the package, using `from pkg import *`.\n",
    "\n",
    "- If you just want to pick some sobjects from the package,\n",
    "you can use qualified names like `pkg.object_name` to access the object (function, dataset, class...)\n"
   ]
  },
  {
   "cell_type": "code",
   "execution_count": 1,
   "metadata": {
    "ExecuteTime": {
     "end_time": "2022-01-30T12:52:43.691084Z",
     "start_time": "2022-01-30T12:52:43.226177Z"
    },
    "jupyter": {
     "outputs_hidden": false,
     "source_hidden": false
    },
    "nteract": {
     "transient": {
      "deleting": false
     }
    }
   },
   "outputs": [],
   "source": [
    "# importing basic tools\n",
    "import numpy as np\n",
    "import pandas as pd\n",
    "\n",
    "from pandas.api.types import CategoricalDtype\n",
    "\n",
    "import os            # file operations\n",
    "import requests      # networking\n",
    "\n",
    "from datetime import date  # if needed"
   ]
  },
  {
   "cell_type": "code",
   "execution_count": 2,
   "metadata": {
    "ExecuteTime": {
     "end_time": "2022-01-30T12:52:44.027873Z",
     "start_time": "2022-01-30T12:52:43.694760Z"
    },
    "jupyter": {
     "outputs_hidden": false,
     "source_hidden": false
    },
    "nteract": {
     "transient": {
      "deleting": false
     }
    }
   },
   "outputs": [],
   "source": [
    "# importing plotting packages\n",
    "import plotly.graph_objects as go\n",
    "import plotly.express as px\n",
    "import plotly.io as pio"
   ]
  },
  {
   "cell_type": "code",
   "execution_count": 3,
   "metadata": {
    "ExecuteTime": {
     "end_time": "2022-01-30T12:52:44.665392Z",
     "start_time": "2022-01-30T12:52:44.031215Z"
    },
    "jupyter": {
     "outputs_hidden": false,
     "source_hidden": false
    },
    "nteract": {
     "transient": {
      "deleting": false
     }
    }
   },
   "outputs": [],
   "source": [
    "# make pandas plotly-friendly\n",
    "np.set_printoptions(precision=2, suppress=True)\n",
    "%matplotlib inline\n",
    "pd.options.plotting.backend = \"plotly\""
   ]
  },
  {
   "cell_type": "markdown",
   "metadata": {
    "nteract": {
     "transient": {
      "deleting": false
     }
    }
   },
   "source": [
    "# Getting the data\n",
    "\n",
    "The data are built and made available by [INSEE](https://www.insee.fr/fr/accueil)  (French Governement Statistics Institute)\n",
    "\n",
    "Prénoms:\n",
    "- [https://www.insee.fr/fr/statistiques/fichier/2540004/nat2020_csv.zip](https://www.insee.fr/fr/statistiques/fichier/2540004/nat2020_csv.zip)\n",
    "\n",
    "This dataset has been growing for a while. It has been considered by\n",
    "social scientists for decades.  Given names are meant to give insights into a variety\n",
    "of phenomena, including religious observance.\n",
    "\n",
    "- A glimpse at the body of work can be found in [_L'archipel français_ by Jérome Fourquet, Le Seuil, 2019 ](https://www.seuil.com/ouvrage/l-archipel-francais-jerome-fourquet/9782021406023)\n",
    "\n",
    "- Read the [File documentation](https://www.insee.fr/fr/statistiques/2540004?sommaire=4767262#documentation)\n",
    "\n",
    "## Download the data\n",
    "\n",
    "**QUESTION:** Download the data into a file which relative path is `'./nat2020_csv.zip'`\n",
    "\n",
    "__Hints:__\n",
    "\n",
    "- Have a look at [`requests`](https://requests.readthedocs.io/en/master/).\n",
    "- Use magic commands to navigate across the file hierarchy and create subdirectories\n",
    "when needed"
   ]
  },
  {
   "cell_type": "code",
   "execution_count": 4,
   "metadata": {
    "ExecuteTime": {
     "end_time": "2022-01-30T12:52:44.674573Z",
     "start_time": "2022-01-30T12:52:44.667901Z"
    },
    "jupyter": {
     "outputs_hidden": false,
     "source_hidden": false
    },
    "nteract": {
     "transient": {
      "deleting": false
     }
    }
   },
   "outputs": [],
   "source": [
    "params = dict(\n",
    "    url = 'https://www.insee.fr/fr/statistiques/fichier/2540004/nat2020_csv.zip',\n",
    "    dirpath = './',\n",
    "    timecourse = '',\n",
    "    datafile = 'nat2020.hdf',\n",
    "    fpath = 'nat2020_csv.zip'\n",
    ")"
   ]
  },
  {
   "cell_type": "code",
   "execution_count": 5,
   "metadata": {
    "ExecuteTime": {
     "end_time": "2022-01-30T12:52:44.800442Z",
     "start_time": "2022-01-30T12:52:44.677058Z"
    },
    "jupyter": {
     "outputs_hidden": false,
     "source_hidden": false
    },
    "nteract": {
     "transient": {
      "deleting": false
     }
    }
   },
   "outputs": [],
   "source": [
    "# modify location  make sure you are in the right directory\n",
    "# %cd\n",
    "# %pwd  #\n",
    "# %ls\n",
    "# %mkdir # if needed"
   ]
  },
  {
   "cell_type": "code",
   "execution_count": 6,
   "metadata": {
    "ExecuteTime": {
     "end_time": "2022-01-30T12:52:45.046966Z",
     "start_time": "2022-01-30T12:52:44.803109Z"
    },
    "jupyter": {
     "outputs_hidden": false,
     "source_hidden": false
    },
    "nteract": {
     "transient": {
      "deleting": false
     }
    }
   },
   "outputs": [],
   "source": [
    "url = params['url']      # 'https://www.insee.fr/fr/statistiques/fichier/2540004/nat2020_csv.zip'\n",
    "fpath = params['fpath']  # './nat2020_csv.zip'"
   ]
  },
  {
   "cell_type": "code",
   "execution_count": 7,
   "metadata": {
    "ExecuteTime": {
     "end_time": "2022-01-30T12:52:45.414815Z",
     "start_time": "2022-01-30T12:52:45.049837Z"
    },
    "jupyter": {
     "outputs_hidden": false,
     "source_hidden": false
    },
    "nteract": {
     "transient": {
      "deleting": false
     }
    }
   },
   "outputs": [
    {
     "name": "stdout",
     "output_type": "stream",
     "text": [
      "The file ./nat2020_csv.zip already exists.\n"
     ]
    },
    {
     "data": {
      "text/plain": [
       "\"from zipfile import ZipFile\\nzf = ZipFile('./nat2020_csv.zip', 'r')\\nzf.extractall('./')\\nzf.close()\""
      ]
     },
     "execution_count": 7,
     "metadata": {},
     "output_type": "execute_result"
    }
   ],
   "source": [
    "# your code here\n",
    "dirpath = params['dirpath']\n",
    "\n",
    "if os.path.exists(os.path.join(dirpath, fpath)):\n",
    "    print('The file %s already exists.' % os.path.join(dirpath, fpath))\n",
    "else:\n",
    "    r = requests.get(url)\n",
    "    with open(os.path.join(dirpath, fpath), 'wb') as f:\n",
    "        f.write(r.content)\n",
    "    print('Downloaded file %s.' % os.path.join(dirpath, fpath))\n",
    "\n",
    "#shall I unzip the file now? Apparently unnecessary\n",
    "\"\"\"from zipfile import ZipFile\n",
    "zf = ZipFile('./nat2020_csv.zip', 'r')\n",
    "zf.extractall('./')\n",
    "zf.close()\"\"\"\n"
   ]
  },
  {
   "cell_type": "markdown",
   "metadata": {
    "nteract": {
     "transient": {
      "deleting": false
     }
    }
   },
   "source": [
    "## Load the data in memory\n",
    "\n",
    "**QUESTION:** Load the data in a `pandas` `DataFrame` called `data`\n",
    "\n",
    "__Hints:__\n",
    "\n",
    "- You should obtain a `Pandas dataframe` with 4 columns.\n",
    "- Mind the conventions used to build theis `csv` file.\n",
    "- Package `pandas` provides the convenient tools.\n",
    "- The dataset, though not too large, is already demanding.\n",
    "- Don't hesitate to test your methods on a sample of rows method `sample()` from class `DataFrame` can be helpful."
   ]
  },
  {
   "cell_type": "code",
   "execution_count": 8,
   "metadata": {
    "ExecuteTime": {
     "end_time": "2022-01-30T12:52:46.397384Z",
     "start_time": "2022-01-30T12:52:45.419243Z"
    },
    "jupyter": {
     "outputs_hidden": false,
     "source_hidden": false
    },
    "nteract": {
     "transient": {
      "deleting": false
     }
    }
   },
   "outputs": [
    {
     "data": {
      "text/html": [
       "<div>\n",
       "<style scoped>\n",
       "    .dataframe tbody tr th:only-of-type {\n",
       "        vertical-align: middle;\n",
       "    }\n",
       "\n",
       "    .dataframe tbody tr th {\n",
       "        vertical-align: top;\n",
       "    }\n",
       "\n",
       "    .dataframe thead th {\n",
       "        text-align: right;\n",
       "    }\n",
       "</style>\n",
       "<table border=\"1\" class=\"dataframe\">\n",
       "  <thead>\n",
       "    <tr style=\"text-align: right;\">\n",
       "      <th></th>\n",
       "      <th>sexe</th>\n",
       "      <th>preusuel</th>\n",
       "      <th>annais</th>\n",
       "      <th>nombre</th>\n",
       "    </tr>\n",
       "  </thead>\n",
       "  <tbody>\n",
       "    <tr>\n",
       "      <th>464673</th>\n",
       "      <td>2</td>\n",
       "      <td>JUANA</td>\n",
       "      <td>1957</td>\n",
       "      <td>10</td>\n",
       "    </tr>\n",
       "    <tr>\n",
       "      <th>379830</th>\n",
       "      <td>2</td>\n",
       "      <td>DANIELE</td>\n",
       "      <td>1968</td>\n",
       "      <td>442</td>\n",
       "    </tr>\n",
       "    <tr>\n",
       "      <th>430908</th>\n",
       "      <td>2</td>\n",
       "      <td>GUÉNOLA</td>\n",
       "      <td>1979</td>\n",
       "      <td>5</td>\n",
       "    </tr>\n",
       "    <tr>\n",
       "      <th>258644</th>\n",
       "      <td>1</td>\n",
       "      <td>SHAMS</td>\n",
       "      <td>2020</td>\n",
       "      <td>13</td>\n",
       "    </tr>\n",
       "    <tr>\n",
       "      <th>475417</th>\n",
       "      <td>2</td>\n",
       "      <td>KENZA</td>\n",
       "      <td>1993</td>\n",
       "      <td>95</td>\n",
       "    </tr>\n",
       "    <tr>\n",
       "      <th>121139</th>\n",
       "      <td>1</td>\n",
       "      <td>HUBERT</td>\n",
       "      <td>1920</td>\n",
       "      <td>633</td>\n",
       "    </tr>\n",
       "    <tr>\n",
       "      <th>140958</th>\n",
       "      <td>1</td>\n",
       "      <td>JEAN-PAUL</td>\n",
       "      <td>2017</td>\n",
       "      <td>9</td>\n",
       "    </tr>\n",
       "    <tr>\n",
       "      <th>222394</th>\n",
       "      <td>1</td>\n",
       "      <td>OREN</td>\n",
       "      <td>2011</td>\n",
       "      <td>28</td>\n",
       "    </tr>\n",
       "    <tr>\n",
       "      <th>197948</th>\n",
       "      <td>1</td>\n",
       "      <td>MEHMET</td>\n",
       "      <td>2020</td>\n",
       "      <td>65</td>\n",
       "    </tr>\n",
       "    <tr>\n",
       "      <th>659440</th>\n",
       "      <td>2</td>\n",
       "      <td>YASSMINA</td>\n",
       "      <td>1990</td>\n",
       "      <td>4</td>\n",
       "    </tr>\n",
       "  </tbody>\n",
       "</table>\n",
       "</div>"
      ],
      "text/plain": [
       "        sexe   preusuel annais  nombre\n",
       "464673     2      JUANA   1957      10\n",
       "379830     2    DANIELE   1968     442\n",
       "430908     2    GUÉNOLA   1979       5\n",
       "258644     1      SHAMS   2020      13\n",
       "475417     2      KENZA   1993      95\n",
       "121139     1     HUBERT   1920     633\n",
       "140958     1  JEAN-PAUL   2017       9\n",
       "222394     1       OREN   2011      28\n",
       "197948     1     MEHMET   2020      65\n",
       "659440     2   YASSMINA   1990       4"
      ]
     },
     "execution_count": 8,
     "metadata": {},
     "output_type": "execute_result"
    }
   ],
   "source": [
    "# your code here\n",
    "data = pd.read_csv(\"nat2020_csv.zip\", sep = \";\")\n",
    "data.sample(n=10)"
   ]
  },
  {
   "cell_type": "markdown",
   "metadata": {
    "nteract": {
     "transient": {
      "deleting": false
     }
    }
   },
   "source": [
    "## Explore the data"
   ]
  },
  {
   "cell_type": "markdown",
   "metadata": {
    "nteract": {
     "transient": {
      "deleting": false
     }
    }
   },
   "source": [
    "**QUESTION:** Look at the data, Use the attributes `columns`, `dtypes` and the methods `head`, `describe`, to get a feeling of the data.\n",
    "\n",
    "- This dataset is supposed to report all given names used\n",
    "for either sex during a year in France since 1900\n",
    "\n",
    "- The file is made of `652 056` lines and  4 columns.\n",
    "\n",
    "```\n",
    "|-- preusuel : object\n",
    "|-- nombre: int64\n",
    "|-- sexe: int64\n",
    "|-- annais: object\n",
    "```\n",
    "\n",
    "Each row indicates for a given `preusuel` (prénom usuel, given name), `sexe` (sex), and `annais` (année naissance, birthyear) the `nombre` (number) of babies of the given sex who were given that name during the given year.\n",
    "\n",
    "|sexe    |preusuel     | annais|   nombre|\n",
    "|:------|:--------|----:|---:|\n",
    "|2     |SYLVETTE | 1953| 577|\n",
    "|1   |BOUBOU   | 1979|   4|\n",
    "|1   |NILS     | 1959|   3|\n",
    "|2   |NICOLE   | 2003|  36|\n",
    "|1   |JOSÉLITO | 2013|   4|\n",
    "\n",
    "\n",
    "**QUESTION:** Compare memory usage and disk space used by data\n",
    "\n",
    "**Hints:**\n",
    "\n",
    "- The method `info`  prints a concise summary of a `DataFrame`.\n",
    "- With optional parameter `memory_usage`, you can get an estimate\n",
    "of the amount of memory used by the `DataFrame`.\n",
    "- Beware that the resulting estimate depends on the argument fed."
   ]
  },
  {
   "cell_type": "code",
   "execution_count": 9,
   "metadata": {
    "ExecuteTime": {
     "end_time": "2022-01-30T12:52:46.406691Z",
     "start_time": "2022-01-30T12:52:46.400097Z"
    },
    "jupyter": {
     "outputs_hidden": false,
     "source_hidden": false
    },
    "nteract": {
     "transient": {
      "deleting": false
     }
    }
   },
   "outputs": [
    {
     "data": {
      "text/plain": [
       "sexe         int64\n",
       "preusuel    object\n",
       "annais      object\n",
       "nombre       int64\n",
       "dtype: object"
      ]
     },
     "execution_count": 9,
     "metadata": {},
     "output_type": "execute_result"
    }
   ],
   "source": [
    "# your code here\n",
    "\n",
    "data.dtypes\n"
   ]
  },
  {
   "cell_type": "code",
   "execution_count": 10,
   "metadata": {
    "ExecuteTime": {
     "end_time": "2022-01-30T12:52:46.458151Z",
     "start_time": "2022-01-30T12:52:46.410063Z"
    }
   },
   "outputs": [
    {
     "data": {
      "text/plain": [
       "Index(['sexe', 'preusuel', 'annais', 'nombre'], dtype='object')"
      ]
     },
     "execution_count": 10,
     "metadata": {},
     "output_type": "execute_result"
    }
   ],
   "source": [
    "data.columns"
   ]
  },
  {
   "cell_type": "code",
   "execution_count": 11,
   "metadata": {
    "ExecuteTime": {
     "end_time": "2022-01-30T12:52:46.555825Z",
     "start_time": "2022-01-30T12:52:46.461988Z"
    }
   },
   "outputs": [
    {
     "data": {
      "text/html": [
       "<div>\n",
       "<style scoped>\n",
       "    .dataframe tbody tr th:only-of-type {\n",
       "        vertical-align: middle;\n",
       "    }\n",
       "\n",
       "    .dataframe tbody tr th {\n",
       "        vertical-align: top;\n",
       "    }\n",
       "\n",
       "    .dataframe thead th {\n",
       "        text-align: right;\n",
       "    }\n",
       "</style>\n",
       "<table border=\"1\" class=\"dataframe\">\n",
       "  <thead>\n",
       "    <tr style=\"text-align: right;\">\n",
       "      <th></th>\n",
       "      <th>sexe</th>\n",
       "      <th>preusuel</th>\n",
       "      <th>annais</th>\n",
       "      <th>nombre</th>\n",
       "    </tr>\n",
       "  </thead>\n",
       "  <tbody>\n",
       "    <tr>\n",
       "      <th>0</th>\n",
       "      <td>1</td>\n",
       "      <td>_PRENOMS_RARES</td>\n",
       "      <td>1900</td>\n",
       "      <td>1250</td>\n",
       "    </tr>\n",
       "    <tr>\n",
       "      <th>1</th>\n",
       "      <td>1</td>\n",
       "      <td>_PRENOMS_RARES</td>\n",
       "      <td>1901</td>\n",
       "      <td>1342</td>\n",
       "    </tr>\n",
       "    <tr>\n",
       "      <th>2</th>\n",
       "      <td>1</td>\n",
       "      <td>_PRENOMS_RARES</td>\n",
       "      <td>1902</td>\n",
       "      <td>1330</td>\n",
       "    </tr>\n",
       "    <tr>\n",
       "      <th>3</th>\n",
       "      <td>1</td>\n",
       "      <td>_PRENOMS_RARES</td>\n",
       "      <td>1903</td>\n",
       "      <td>1286</td>\n",
       "    </tr>\n",
       "    <tr>\n",
       "      <th>4</th>\n",
       "      <td>1</td>\n",
       "      <td>_PRENOMS_RARES</td>\n",
       "      <td>1904</td>\n",
       "      <td>1430</td>\n",
       "    </tr>\n",
       "    <tr>\n",
       "      <th>5</th>\n",
       "      <td>1</td>\n",
       "      <td>_PRENOMS_RARES</td>\n",
       "      <td>1905</td>\n",
       "      <td>1472</td>\n",
       "    </tr>\n",
       "    <tr>\n",
       "      <th>6</th>\n",
       "      <td>1</td>\n",
       "      <td>_PRENOMS_RARES</td>\n",
       "      <td>1906</td>\n",
       "      <td>1451</td>\n",
       "    </tr>\n",
       "    <tr>\n",
       "      <th>7</th>\n",
       "      <td>1</td>\n",
       "      <td>_PRENOMS_RARES</td>\n",
       "      <td>1907</td>\n",
       "      <td>1514</td>\n",
       "    </tr>\n",
       "    <tr>\n",
       "      <th>8</th>\n",
       "      <td>1</td>\n",
       "      <td>_PRENOMS_RARES</td>\n",
       "      <td>1908</td>\n",
       "      <td>1509</td>\n",
       "    </tr>\n",
       "    <tr>\n",
       "      <th>9</th>\n",
       "      <td>1</td>\n",
       "      <td>_PRENOMS_RARES</td>\n",
       "      <td>1909</td>\n",
       "      <td>1526</td>\n",
       "    </tr>\n",
       "    <tr>\n",
       "      <th>10</th>\n",
       "      <td>1</td>\n",
       "      <td>_PRENOMS_RARES</td>\n",
       "      <td>1910</td>\n",
       "      <td>1666</td>\n",
       "    </tr>\n",
       "    <tr>\n",
       "      <th>11</th>\n",
       "      <td>1</td>\n",
       "      <td>_PRENOMS_RARES</td>\n",
       "      <td>1911</td>\n",
       "      <td>1572</td>\n",
       "    </tr>\n",
       "    <tr>\n",
       "      <th>12</th>\n",
       "      <td>1</td>\n",
       "      <td>_PRENOMS_RARES</td>\n",
       "      <td>1912</td>\n",
       "      <td>1608</td>\n",
       "    </tr>\n",
       "    <tr>\n",
       "      <th>13</th>\n",
       "      <td>1</td>\n",
       "      <td>_PRENOMS_RARES</td>\n",
       "      <td>1913</td>\n",
       "      <td>1604</td>\n",
       "    </tr>\n",
       "    <tr>\n",
       "      <th>14</th>\n",
       "      <td>1</td>\n",
       "      <td>_PRENOMS_RARES</td>\n",
       "      <td>1914</td>\n",
       "      <td>1597</td>\n",
       "    </tr>\n",
       "  </tbody>\n",
       "</table>\n",
       "</div>"
      ],
      "text/plain": [
       "    sexe        preusuel annais  nombre\n",
       "0      1  _PRENOMS_RARES   1900    1250\n",
       "1      1  _PRENOMS_RARES   1901    1342\n",
       "2      1  _PRENOMS_RARES   1902    1330\n",
       "3      1  _PRENOMS_RARES   1903    1286\n",
       "4      1  _PRENOMS_RARES   1904    1430\n",
       "5      1  _PRENOMS_RARES   1905    1472\n",
       "6      1  _PRENOMS_RARES   1906    1451\n",
       "7      1  _PRENOMS_RARES   1907    1514\n",
       "8      1  _PRENOMS_RARES   1908    1509\n",
       "9      1  _PRENOMS_RARES   1909    1526\n",
       "10     1  _PRENOMS_RARES   1910    1666\n",
       "11     1  _PRENOMS_RARES   1911    1572\n",
       "12     1  _PRENOMS_RARES   1912    1608\n",
       "13     1  _PRENOMS_RARES   1913    1604\n",
       "14     1  _PRENOMS_RARES   1914    1597"
      ]
     },
     "execution_count": 11,
     "metadata": {},
     "output_type": "execute_result"
    }
   ],
   "source": [
    "data.head(15)"
   ]
  },
  {
   "cell_type": "markdown",
   "metadata": {
    "nteract": {
     "transient": {
      "deleting": false
     }
    }
   },
   "source": [
    "**QUESTION:** Display the output of `.describe()` with style."
   ]
  },
  {
   "cell_type": "code",
   "execution_count": 12,
   "metadata": {
    "ExecuteTime": {
     "end_time": "2022-01-30T12:52:46.702702Z",
     "start_time": "2022-01-30T12:52:46.558395Z"
    },
    "jupyter": {
     "outputs_hidden": false,
     "source_hidden": false
    },
    "nteract": {
     "transient": {
      "deleting": false
     }
    }
   },
   "outputs": [
    {
     "data": {
      "text/html": [
       "<style  type=\"text/css\" >\n",
       "#T_2a8b5_row0_col0,#T_2a8b5_row0_col1,#T_2a8b5_row1_col0,#T_2a8b5_row1_col1,#T_2a8b5_row2_col0,#T_2a8b5_row2_col1,#T_2a8b5_row3_col0,#T_2a8b5_row3_col1,#T_2a8b5_row4_col0,#T_2a8b5_row4_col1,#T_2a8b5_row5_col0,#T_2a8b5_row5_col1,#T_2a8b5_row6_col0,#T_2a8b5_row6_col1,#T_2a8b5_row7_col0,#T_2a8b5_row7_col1{\n",
       "            background-color:  white;\n",
       "            border-color:  white;\n",
       "            border:  1.3px;\n",
       "            color:  blue;\n",
       "        }</style><table id=\"T_2a8b5_\" ><thead>    <tr>        <th class=\"blank level0\" ></th>        <th class=\"col_heading level0 col0\" >sexe</th>        <th class=\"col_heading level0 col1\" >nombre</th>    </tr></thead><tbody>\n",
       "                <tr>\n",
       "                        <th id=\"T_2a8b5_level0_row0\" class=\"row_heading level0 row0\" >count</th>\n",
       "                        <td id=\"T_2a8b5_row0_col0\" class=\"data row0 col0\" >667364.00</td>\n",
       "                        <td id=\"T_2a8b5_row0_col1\" class=\"data row0 col1\" >667364.00</td>\n",
       "            </tr>\n",
       "            <tr>\n",
       "                        <th id=\"T_2a8b5_level0_row1\" class=\"row_heading level0 row1\" >mean</th>\n",
       "                        <td id=\"T_2a8b5_row1_col0\" class=\"data row1 col0\" >1.54</td>\n",
       "                        <td id=\"T_2a8b5_row1_col1\" class=\"data row1 col1\" >129.77</td>\n",
       "            </tr>\n",
       "            <tr>\n",
       "                        <th id=\"T_2a8b5_level0_row2\" class=\"row_heading level0 row2\" >std</th>\n",
       "                        <td id=\"T_2a8b5_row2_col0\" class=\"data row2 col0\" >0.50</td>\n",
       "                        <td id=\"T_2a8b5_row2_col1\" class=\"data row2 col1\" >884.91</td>\n",
       "            </tr>\n",
       "            <tr>\n",
       "                        <th id=\"T_2a8b5_level0_row3\" class=\"row_heading level0 row3\" >min</th>\n",
       "                        <td id=\"T_2a8b5_row3_col0\" class=\"data row3 col0\" >1.00</td>\n",
       "                        <td id=\"T_2a8b5_row3_col1\" class=\"data row3 col1\" >1.00</td>\n",
       "            </tr>\n",
       "            <tr>\n",
       "                        <th id=\"T_2a8b5_level0_row4\" class=\"row_heading level0 row4\" >25%</th>\n",
       "                        <td id=\"T_2a8b5_row4_col0\" class=\"data row4 col0\" >1.00</td>\n",
       "                        <td id=\"T_2a8b5_row4_col1\" class=\"data row4 col1\" >4.00</td>\n",
       "            </tr>\n",
       "            <tr>\n",
       "                        <th id=\"T_2a8b5_level0_row5\" class=\"row_heading level0 row5\" >50%</th>\n",
       "                        <td id=\"T_2a8b5_row5_col0\" class=\"data row5 col0\" >2.00</td>\n",
       "                        <td id=\"T_2a8b5_row5_col1\" class=\"data row5 col1\" >8.00</td>\n",
       "            </tr>\n",
       "            <tr>\n",
       "                        <th id=\"T_2a8b5_level0_row6\" class=\"row_heading level0 row6\" >75%</th>\n",
       "                        <td id=\"T_2a8b5_row6_col0\" class=\"data row6 col0\" >2.00</td>\n",
       "                        <td id=\"T_2a8b5_row6_col1\" class=\"data row6 col1\" >25.00</td>\n",
       "            </tr>\n",
       "            <tr>\n",
       "                        <th id=\"T_2a8b5_level0_row7\" class=\"row_heading level0 row7\" >max</th>\n",
       "                        <td id=\"T_2a8b5_row7_col0\" class=\"data row7 col0\" >2.00</td>\n",
       "                        <td id=\"T_2a8b5_row7_col1\" class=\"data row7 col1\" >53584.00</td>\n",
       "            </tr>\n",
       "    </tbody></table>"
      ],
      "text/plain": [
       "<pandas.io.formats.style.Styler at 0x7fc144378a60>"
      ]
     },
     "execution_count": 12,
     "metadata": {},
     "output_type": "execute_result"
    }
   ],
   "source": [
    "\n",
    "\n",
    "# your code here\n",
    "(\n",
    "    \n",
    "data\n",
    "    .describe()\n",
    "    .style\n",
    "    .set_properties(**{'background-color': 'white',                                                                         \n",
    "                                    'border-color': 'white',\n",
    "                                    'border': '1.3px',\n",
    "                                    'color': 'blue'})\n",
    "    #.format(\"{:.3}\")\n",
    "    .set_precision(2)\n",
    ")\n",
    " "
   ]
  },
  {
   "cell_type": "markdown",
   "metadata": {
    "nteract": {
     "transient": {
      "deleting": false
     }
    }
   },
   "source": [
    "**QUESTION:** For each column compute the number of distinct values"
   ]
  },
  {
   "cell_type": "code",
   "execution_count": 13,
   "metadata": {
    "ExecuteTime": {
     "end_time": "2022-01-30T12:52:46.895571Z",
     "start_time": "2022-01-30T12:52:46.705629Z"
    },
    "jupyter": {
     "outputs_hidden": false,
     "source_hidden": false
    },
    "nteract": {
     "transient": {
      "deleting": false
     }
    }
   },
   "outputs": [
    {
     "data": {
      "text/plain": [
       "sexe            2\n",
       "preusuel    35010\n",
       "annais        122\n",
       "nombre       7304\n",
       "dtype: int64"
      ]
     },
     "execution_count": 13,
     "metadata": {},
     "output_type": "execute_result"
    }
   ],
   "source": [
    "# your code here\n",
    "data.nunique()"
   ]
  },
  {
   "cell_type": "markdown",
   "metadata": {
    "nteract": {
     "transient": {
      "deleting": false
     }
    }
   },
   "source": [
    "# Transformations\n",
    "\n",
    "## Improving the data types\n",
    "\n",
    "**QUESTION:** Make `sexe` a category with two levels `Female` and `Male`. Call the new column `genre`. Do you see any reason why this factor should be ordered?\n",
    "\n",
    "__Hint:__ Read [Pandas and categorical variables](https://pandas.pydata.org/pandas-docs/stable/user_guide/categorical.html?highlight=category)"
   ]
  },
  {
   "cell_type": "code",
   "execution_count": 14,
   "metadata": {
    "ExecuteTime": {
     "end_time": "2022-01-30T12:52:46.912497Z",
     "start_time": "2022-01-30T12:52:46.897790Z"
    },
    "jupyter": {
     "outputs_hidden": false,
     "source_hidden": false
    },
    "nteract": {
     "transient": {
      "deleting": false
     }
    }
   },
   "outputs": [],
   "source": [
    "\n",
    "data['genre'] = data['sexe'].astype('category').cat.rename_categories({1:'Male', 2:'Female'})\n",
    "\n"
   ]
  },
  {
   "cell_type": "code",
   "execution_count": 15,
   "metadata": {
    "ExecuteTime": {
     "end_time": "2022-01-30T12:52:47.081833Z",
     "start_time": "2022-01-30T12:52:46.915024Z"
    }
   },
   "outputs": [
    {
     "name": "stdout",
     "output_type": "stream",
     "text": [
      "<class 'pandas.core.frame.DataFrame'>\n",
      "RangeIndex: 667364 entries, 0 to 667363\n",
      "Data columns (total 5 columns):\n",
      " #   Column    Non-Null Count   Dtype   \n",
      "---  ------    --------------   -----   \n",
      " 0   sexe      667364 non-null  int64   \n",
      " 1   preusuel  667362 non-null  object  \n",
      " 2   annais    667364 non-null  object  \n",
      " 3   nombre    667364 non-null  int64   \n",
      " 4   genre     667364 non-null  category\n",
      "dtypes: category(1), int64(2), object(2)\n",
      "memory usage: 21.0+ MB\n"
     ]
    }
   ],
   "source": [
    "data.info()"
   ]
  },
  {
   "cell_type": "code",
   "execution_count": 16,
   "metadata": {
    "ExecuteTime": {
     "end_time": "2022-01-30T12:52:47.201467Z",
     "start_time": "2022-01-30T12:52:47.084106Z"
    }
   },
   "outputs": [
    {
     "data": {
      "text/html": [
       "<div>\n",
       "<style scoped>\n",
       "    .dataframe tbody tr th:only-of-type {\n",
       "        vertical-align: middle;\n",
       "    }\n",
       "\n",
       "    .dataframe tbody tr th {\n",
       "        vertical-align: top;\n",
       "    }\n",
       "\n",
       "    .dataframe thead th {\n",
       "        text-align: right;\n",
       "    }\n",
       "</style>\n",
       "<table border=\"1\" class=\"dataframe\">\n",
       "  <thead>\n",
       "    <tr style=\"text-align: right;\">\n",
       "      <th></th>\n",
       "      <th>sexe</th>\n",
       "      <th>preusuel</th>\n",
       "      <th>annais</th>\n",
       "      <th>nombre</th>\n",
       "      <th>genre</th>\n",
       "    </tr>\n",
       "  </thead>\n",
       "  <tbody>\n",
       "    <tr>\n",
       "      <th>100724</th>\n",
       "      <td>1</td>\n",
       "      <td>GAYE</td>\n",
       "      <td>1983</td>\n",
       "      <td>5</td>\n",
       "      <td>Male</td>\n",
       "    </tr>\n",
       "    <tr>\n",
       "      <th>333385</th>\n",
       "      <td>2</td>\n",
       "      <td>ANNETTE</td>\n",
       "      <td>1907</td>\n",
       "      <td>230</td>\n",
       "      <td>Female</td>\n",
       "    </tr>\n",
       "    <tr>\n",
       "      <th>605437</th>\n",
       "      <td>2</td>\n",
       "      <td>ROSALIND</td>\n",
       "      <td>XXXX</td>\n",
       "      <td>34</td>\n",
       "      <td>Female</td>\n",
       "    </tr>\n",
       "    <tr>\n",
       "      <th>251638</th>\n",
       "      <td>1</td>\n",
       "      <td>SALLAH</td>\n",
       "      <td>1956</td>\n",
       "      <td>3</td>\n",
       "      <td>Male</td>\n",
       "    </tr>\n",
       "    <tr>\n",
       "      <th>363349</th>\n",
       "      <td>2</td>\n",
       "      <td>CHADIA</td>\n",
       "      <td>1987</td>\n",
       "      <td>25</td>\n",
       "      <td>Female</td>\n",
       "    </tr>\n",
       "    <tr>\n",
       "      <th>377514</th>\n",
       "      <td>2</td>\n",
       "      <td>CYRIANE</td>\n",
       "      <td>2002</td>\n",
       "      <td>29</td>\n",
       "      <td>Female</td>\n",
       "    </tr>\n",
       "    <tr>\n",
       "      <th>126173</th>\n",
       "      <td>1</td>\n",
       "      <td>INSA</td>\n",
       "      <td>XXXX</td>\n",
       "      <td>29</td>\n",
       "      <td>Male</td>\n",
       "    </tr>\n",
       "    <tr>\n",
       "      <th>461044</th>\n",
       "      <td>2</td>\n",
       "      <td>JOCELYNE</td>\n",
       "      <td>1974</td>\n",
       "      <td>253</td>\n",
       "      <td>Female</td>\n",
       "    </tr>\n",
       "    <tr>\n",
       "      <th>451351</th>\n",
       "      <td>2</td>\n",
       "      <td>ISAURA</td>\n",
       "      <td>2017</td>\n",
       "      <td>8</td>\n",
       "      <td>Female</td>\n",
       "    </tr>\n",
       "    <tr>\n",
       "      <th>213259</th>\n",
       "      <td>1</td>\n",
       "      <td>NATHIS</td>\n",
       "      <td>XXXX</td>\n",
       "      <td>5</td>\n",
       "      <td>Male</td>\n",
       "    </tr>\n",
       "  </tbody>\n",
       "</table>\n",
       "</div>"
      ],
      "text/plain": [
       "        sexe  preusuel annais  nombre   genre\n",
       "100724     1      GAYE   1983       5    Male\n",
       "333385     2   ANNETTE   1907     230  Female\n",
       "605437     2  ROSALIND   XXXX      34  Female\n",
       "251638     1    SALLAH   1956       3    Male\n",
       "363349     2    CHADIA   1987      25  Female\n",
       "377514     2   CYRIANE   2002      29  Female\n",
       "126173     1      INSA   XXXX      29    Male\n",
       "461044     2  JOCELYNE   1974     253  Female\n",
       "451351     2    ISAURA   2017       8  Female\n",
       "213259     1    NATHIS   XXXX       5    Male"
      ]
     },
     "execution_count": 16,
     "metadata": {},
     "output_type": "execute_result"
    }
   ],
   "source": [
    "data.sample(10)"
   ]
  },
  {
   "cell_type": "markdown",
   "metadata": {
    "nteract": {
     "transient": {
      "deleting": false
     }
    }
   },
   "source": [
    "**QUESTION:** Compare memory usage of columns `sexe` and `genre`"
   ]
  },
  {
   "cell_type": "code",
   "execution_count": 17,
   "metadata": {
    "ExecuteTime": {
     "end_time": "2022-01-30T12:52:47.300714Z",
     "start_time": "2022-01-30T12:52:47.203954Z"
    },
    "jupyter": {
     "outputs_hidden": false,
     "source_hidden": false
    },
    "nteract": {
     "transient": {
      "deleting": false
     }
    }
   },
   "outputs": [
    {
     "data": {
      "text/plain": [
       "Index           128\n",
       "sexe        5338912\n",
       "preusuel    5338912\n",
       "annais      5338912\n",
       "nombre      5338912\n",
       "genre        667488\n",
       "dtype: int64"
      ]
     },
     "execution_count": 17,
     "metadata": {},
     "output_type": "execute_result"
    }
   ],
   "source": [
    "# your code here\n",
    "data.memory_usage()\n"
   ]
  },
  {
   "cell_type": "markdown",
   "metadata": {
    "nteract": {
     "transient": {
      "deleting": false
     }
    }
   },
   "source": [
    "**QUESTION:** Would it be more memory-efficient to recode `sexe` using modalities `F` and `M` instead of `Male` and `Female` ?"
   ]
  },
  {
   "cell_type": "markdown",
   "metadata": {
    "nteract": {
     "transient": {
      "deleting": false
     }
    }
   },
   "source": [
    "_Insert your answer here_\n",
    "\n",
    "> It would not be more effecient. The same amount of memory is used for all categorical types "
   ]
  },
  {
   "cell_type": "markdown",
   "metadata": {
    "nteract": {
     "transient": {
      "deleting": false
     }
    }
   },
   "source": [
    "## Dealing with missing values\n",
    "\n",
    "**QUESTION:** Variable `annais` class is `object`. Make `annais` of type `float`. Note that missing years are encoded as \"XXXX\", find a way to deal with that.\n",
    "\n",
    "__Hint:__  As of releasing this Homework (2021-01-22), `Pandas` is not very good at managing missing values,\n",
    "see [roadmap](https://pandas.pydata.org/docs/development/roadmap.html). Don't try to convert `annais` into an integer column."
   ]
  },
  {
   "cell_type": "code",
   "execution_count": 18,
   "metadata": {
    "ExecuteTime": {
     "end_time": "2022-01-30T12:52:47.705168Z",
     "start_time": "2022-01-30T12:52:47.303069Z"
    },
    "jupyter": {
     "outputs_hidden": false,
     "source_hidden": false
    },
    "nteract": {
     "transient": {
      "deleting": false
     }
    }
   },
   "outputs": [],
   "source": [
    "# your code here\n",
    "data['annais']=pd.to_numeric(data['annais'],errors='coerce').astype(float)"
   ]
  },
  {
   "cell_type": "code",
   "execution_count": 19,
   "metadata": {
    "ExecuteTime": {
     "end_time": "2022-01-30T12:52:47.766301Z",
     "start_time": "2022-01-30T12:52:47.707719Z"
    }
   },
   "outputs": [
    {
     "data": {
      "text/plain": [
       "sexe           int64\n",
       "preusuel      object\n",
       "annais       float64\n",
       "nombre         int64\n",
       "genre       category\n",
       "dtype: object"
      ]
     },
     "execution_count": 19,
     "metadata": {},
     "output_type": "execute_result"
    }
   ],
   "source": [
    "data.dtypes"
   ]
  },
  {
   "cell_type": "markdown",
   "metadata": {
    "nteract": {
     "transient": {
      "deleting": false
     }
    }
   },
   "source": [
    "## Rename and remove columns"
   ]
  },
  {
   "cell_type": "markdown",
   "metadata": {
    "nteract": {
     "transient": {
      "deleting": false
     }
    }
   },
   "source": [
    "**QUESTION:** Remove useless columns (now that you've created new ones, and rename them). You should end up with a dataframe with columns called `\"gender\"`, `\"year\"`, `\"count\"`, `\"firstname`\" with the following dtypes:\n",
    "\n",
    "```python\n",
    "gender        category\n",
    "firstname     object\n",
    "count         int64\n",
    "year          float64\n",
    "```"
   ]
  },
  {
   "cell_type": "code",
   "execution_count": 20,
   "metadata": {
    "ExecuteTime": {
     "end_time": "2022-01-30T12:52:48.002544Z",
     "start_time": "2022-01-30T12:52:47.768538Z"
    },
    "jupyter": {
     "outputs_hidden": false,
     "source_hidden": false
    },
    "nteract": {
     "transient": {
      "deleting": false
     }
    }
   },
   "outputs": [
    {
     "data": {
      "text/html": [
       "<div>\n",
       "<style scoped>\n",
       "    .dataframe tbody tr th:only-of-type {\n",
       "        vertical-align: middle;\n",
       "    }\n",
       "\n",
       "    .dataframe tbody tr th {\n",
       "        vertical-align: top;\n",
       "    }\n",
       "\n",
       "    .dataframe thead th {\n",
       "        text-align: right;\n",
       "    }\n",
       "</style>\n",
       "<table border=\"1\" class=\"dataframe\">\n",
       "  <thead>\n",
       "    <tr style=\"text-align: right;\">\n",
       "      <th></th>\n",
       "      <th>firstname</th>\n",
       "      <th>year</th>\n",
       "      <th>count</th>\n",
       "      <th>genre</th>\n",
       "    </tr>\n",
       "  </thead>\n",
       "  <tbody>\n",
       "    <tr>\n",
       "      <th>264628</th>\n",
       "      <td>SOSTHENE</td>\n",
       "      <td>2014.0</td>\n",
       "      <td>3</td>\n",
       "      <td>Male</td>\n",
       "    </tr>\n",
       "    <tr>\n",
       "      <th>349346</th>\n",
       "      <td>BÉNÉDICTE</td>\n",
       "      <td>2014.0</td>\n",
       "      <td>19</td>\n",
       "      <td>Female</td>\n",
       "    </tr>\n",
       "    <tr>\n",
       "      <th>294710</th>\n",
       "      <td>YANN</td>\n",
       "      <td>2013.0</td>\n",
       "      <td>504</td>\n",
       "      <td>Male</td>\n",
       "    </tr>\n",
       "    <tr>\n",
       "      <th>329059</th>\n",
       "      <td>ANNA-LIVIA</td>\n",
       "      <td>2019.0</td>\n",
       "      <td>6</td>\n",
       "      <td>Female</td>\n",
       "    </tr>\n",
       "    <tr>\n",
       "      <th>515942</th>\n",
       "      <td>MAGUELONNE</td>\n",
       "      <td>1999.0</td>\n",
       "      <td>9</td>\n",
       "      <td>Female</td>\n",
       "    </tr>\n",
       "    <tr>\n",
       "      <th>29081</th>\n",
       "      <td>ARONA</td>\n",
       "      <td>2000.0</td>\n",
       "      <td>3</td>\n",
       "      <td>Male</td>\n",
       "    </tr>\n",
       "    <tr>\n",
       "      <th>4264</th>\n",
       "      <td>ABDERRAHIM</td>\n",
       "      <td>1970.0</td>\n",
       "      <td>4</td>\n",
       "      <td>Male</td>\n",
       "    </tr>\n",
       "    <tr>\n",
       "      <th>575474</th>\n",
       "      <td>NICOLAS</td>\n",
       "      <td>1947.0</td>\n",
       "      <td>6</td>\n",
       "      <td>Female</td>\n",
       "    </tr>\n",
       "    <tr>\n",
       "      <th>85979</th>\n",
       "      <td>EVANS</td>\n",
       "      <td>2016.0</td>\n",
       "      <td>27</td>\n",
       "      <td>Male</td>\n",
       "    </tr>\n",
       "    <tr>\n",
       "      <th>539250</th>\n",
       "      <td>MARIELLE</td>\n",
       "      <td>2018.0</td>\n",
       "      <td>12</td>\n",
       "      <td>Female</td>\n",
       "    </tr>\n",
       "    <tr>\n",
       "      <th>627415</th>\n",
       "      <td>SIMEONNE</td>\n",
       "      <td>NaN</td>\n",
       "      <td>27</td>\n",
       "      <td>Female</td>\n",
       "    </tr>\n",
       "    <tr>\n",
       "      <th>68763</th>\n",
       "      <td>DOM</td>\n",
       "      <td>2020.0</td>\n",
       "      <td>8</td>\n",
       "      <td>Male</td>\n",
       "    </tr>\n",
       "    <tr>\n",
       "      <th>183815</th>\n",
       "      <td>MAHIR</td>\n",
       "      <td>2003.0</td>\n",
       "      <td>7</td>\n",
       "      <td>Male</td>\n",
       "    </tr>\n",
       "    <tr>\n",
       "      <th>232173</th>\n",
       "      <td>PIERRE-MARIE</td>\n",
       "      <td>1989.0</td>\n",
       "      <td>110</td>\n",
       "      <td>Male</td>\n",
       "    </tr>\n",
       "    <tr>\n",
       "      <th>214557</th>\n",
       "      <td>NELLO</td>\n",
       "      <td>1913.0</td>\n",
       "      <td>6</td>\n",
       "      <td>Male</td>\n",
       "    </tr>\n",
       "  </tbody>\n",
       "</table>\n",
       "</div>"
      ],
      "text/plain": [
       "           firstname    year  count   genre\n",
       "264628      SOSTHENE  2014.0      3    Male\n",
       "349346     BÉNÉDICTE  2014.0     19  Female\n",
       "294710          YANN  2013.0    504    Male\n",
       "329059    ANNA-LIVIA  2019.0      6  Female\n",
       "515942    MAGUELONNE  1999.0      9  Female\n",
       "29081          ARONA  2000.0      3    Male\n",
       "4264      ABDERRAHIM  1970.0      4    Male\n",
       "575474       NICOLAS  1947.0      6  Female\n",
       "85979          EVANS  2016.0     27    Male\n",
       "539250      MARIELLE  2018.0     12  Female\n",
       "627415      SIMEONNE     NaN     27  Female\n",
       "68763            DOM  2020.0      8    Male\n",
       "183815         MAHIR  2003.0      7    Male\n",
       "232173  PIERRE-MARIE  1989.0    110    Male\n",
       "214557         NELLO  1913.0      6    Male"
      ]
     },
     "execution_count": 20,
     "metadata": {},
     "output_type": "execute_result"
    }
   ],
   "source": [
    "# your code here\n",
    "#to delete columns\n",
    "data = data.drop(\"sexe\", axis=1)\n",
    "#to rename columns \n",
    "data = data.rename(columns={'annais':'year','nombre':'count','preusuel':'firstname'})\n",
    "data.sample(15)"
   ]
  },
  {
   "cell_type": "markdown",
   "metadata": {
    "nteract": {
     "transient": {
      "deleting": false
     }
    }
   },
   "source": [
    "**QUESTION:** How many missing values (NA) have been introduced? How many births are concerned?"
   ]
  },
  {
   "cell_type": "code",
   "execution_count": 21,
   "metadata": {
    "ExecuteTime": {
     "end_time": "2022-01-30T12:52:48.204667Z",
     "start_time": "2022-01-30T12:52:48.005234Z"
    },
    "jupyter": {
     "outputs_hidden": false,
     "source_hidden": false
    },
    "nteract": {
     "transient": {
      "deleting": false
     }
    }
   },
   "outputs": [
    {
     "data": {
      "text/plain": [
       "36676"
      ]
     },
     "execution_count": 21,
     "metadata": {},
     "output_type": "execute_result"
    }
   ],
   "source": [
    "# your code here\n",
    "data.isnull().sum().sum()#number of missing values\n",
    "\n",
    "data.isnull().any(axis=1).sum() #number of rows containing missing values "
   ]
  },
  {
   "cell_type": "code",
   "execution_count": 22,
   "metadata": {
    "ExecuteTime": {
     "end_time": "2022-01-30T12:52:48.263172Z",
     "start_time": "2022-01-30T12:52:48.207057Z"
    }
   },
   "outputs": [
    {
     "name": "stdout",
     "output_type": "stream",
     "text": [
      "36677 missing values have been introduced. 36676 births are concerned\n"
     ]
    }
   ],
   "source": [
    "(\n",
    "print\n",
    " (data.isnull()\n",
    "  .sum()\n",
    "  .sum()\n",
    "  ,\"missing values have been introduced.\"\n",
    "  ,data.isnull().any(axis=1).sum()\n",
    "  , \"births are concerned\")\n",
    ")"
   ]
  },
  {
   "cell_type": "markdown",
   "metadata": {
    "nteract": {
     "transient": {
      "deleting": false
     }
    }
   },
   "source": [
    "**QUESTION:** Read the documentation and describe the origin of rows containing the missing values."
   ]
  },
  {
   "cell_type": "markdown",
   "metadata": {
    "ExecuteTime": {
     "end_time": "2022-01-28T19:33:04.766565Z",
     "start_time": "2022-01-28T19:33:04.715519Z"
    },
    "jupyter": {
     "outputs_hidden": false,
     "source_hidden": false
    },
    "nteract": {
     "transient": {
      "deleting": false
     }
    }
   },
   "source": [
    "your code here\n",
    "\n",
    "\n",
    "According to the documentation. The missing values are due to births where the name has been atrributed at least 20 times \n",
    "between 1945 and 2020 but haven't been attributed more than 3 times that year. In those cases, the birth year is replaced by \n",
    "XXXX. Indeed, looking at the data, we noticed that the majority of missing values were in the year column"
   ]
  },
  {
   "cell_type": "markdown",
   "metadata": {
    "nteract": {
     "transient": {
      "deleting": false
     }
    }
   },
   "source": [
    "## Checkpointing: save your transformed dataframe"
   ]
  },
  {
   "cell_type": "markdown",
   "metadata": {
    "nteract": {
     "transient": {
      "deleting": false
     }
    }
   },
   "source": [
    "**QUESTION:** Save the transformed dataframe (retyped and renamed) to `./nat2020_csv.zip`. Try several compression methods."
   ]
  },
  {
   "cell_type": "code",
   "execution_count": 23,
   "metadata": {
    "ExecuteTime": {
     "end_time": "2022-01-30T12:53:04.725511Z",
     "start_time": "2022-01-30T12:52:48.266768Z"
    },
    "jupyter": {
     "outputs_hidden": false,
     "source_hidden": false
    },
    "nteract": {
     "transient": {
      "deleting": false
     }
    }
   },
   "outputs": [
    {
     "name": "stderr",
     "output_type": "stream",
     "text": [
      "/usr/lib/python3.8/zipfile.py:1517: UserWarning: Duplicate name: 'nat2020.zip'\n",
      "  return self._open_to_write(zinfo, force_zip64=force_zip64)\n"
     ]
    }
   ],
   "source": [
    "# your code here\n",
    "try: \n",
    "    data.to_csv(\"nat2020.zip\", \n",
    "           index=False, \n",
    "           compression=\"zip\") #could also be gzip, bz2, xz or None\n",
    "except:\n",
    "    print(\"File already exists\")"
   ]
  },
  {
   "cell_type": "markdown",
   "metadata": {
    "nteract": {
     "transient": {
      "deleting": false
     }
    }
   },
   "source": [
    "**QUESTION:** Save the transformed dataframe (retyped and renamed) to `./nat2020.hdf` using `.hdf` format"
   ]
  },
  {
   "cell_type": "code",
   "execution_count": 25,
   "metadata": {
    "ExecuteTime": {
     "end_time": "2022-01-30T12:56:55.339675Z",
     "start_time": "2022-01-30T12:56:39.734051Z"
    },
    "jupyter": {
     "outputs_hidden": false,
     "source_hidden": false
    },
    "nteract": {
     "transient": {
      "deleting": false
     }
    }
   },
   "outputs": [],
   "source": [
    "# your code here\n",
    "import tables as tb\n",
    "data.to_hdf(\"./nat2020.hdf\", key = 'data',complevel = 2, format = 'table')"
   ]
  },
  {
   "cell_type": "markdown",
   "metadata": {
    "nteract": {
     "transient": {
      "deleting": false
     }
    }
   },
   "source": [
    "At that point your working directory should look like:\n",
    "\n",
    "```\n",
    "├── homework01.py      # if you use `jupytext`\n",
    "├── homework01.ipynb\n",
    "├── nat2020.hdf\n",
    "├── nat2020.zip\n",
    "```\n",
    "\n",
    "**QUESTION:** Reload the data using `read_hdf(...)` so that the resulting dataframe  is properly typed with meaningful column names.\n",
    "\n",
    "__Hint:__ use `try: ... except` to handle exceptions such as `FileNotFoundError`"
   ]
  },
  {
   "cell_type": "code",
   "execution_count": 26,
   "metadata": {
    "ExecuteTime": {
     "end_time": "2022-01-30T12:57:03.312342Z",
     "start_time": "2022-01-30T12:57:01.187398Z"
    },
    "jupyter": {
     "outputs_hidden": false,
     "source_hidden": false
    },
    "nteract": {
     "transient": {
      "deleting": false
     }
    }
   },
   "outputs": [
    {
     "data": {
      "text/html": [
       "<div>\n",
       "<style scoped>\n",
       "    .dataframe tbody tr th:only-of-type {\n",
       "        vertical-align: middle;\n",
       "    }\n",
       "\n",
       "    .dataframe tbody tr th {\n",
       "        vertical-align: top;\n",
       "    }\n",
       "\n",
       "    .dataframe thead th {\n",
       "        text-align: right;\n",
       "    }\n",
       "</style>\n",
       "<table border=\"1\" class=\"dataframe\">\n",
       "  <thead>\n",
       "    <tr style=\"text-align: right;\">\n",
       "      <th></th>\n",
       "      <th>firstname</th>\n",
       "      <th>year</th>\n",
       "      <th>count</th>\n",
       "      <th>genre</th>\n",
       "    </tr>\n",
       "  </thead>\n",
       "  <tbody>\n",
       "    <tr>\n",
       "      <th>0</th>\n",
       "      <td>_PRENOMS_RARES</td>\n",
       "      <td>1900.0</td>\n",
       "      <td>1250</td>\n",
       "      <td>Male</td>\n",
       "    </tr>\n",
       "    <tr>\n",
       "      <th>1</th>\n",
       "      <td>_PRENOMS_RARES</td>\n",
       "      <td>1901.0</td>\n",
       "      <td>1342</td>\n",
       "      <td>Male</td>\n",
       "    </tr>\n",
       "    <tr>\n",
       "      <th>2</th>\n",
       "      <td>_PRENOMS_RARES</td>\n",
       "      <td>1902.0</td>\n",
       "      <td>1330</td>\n",
       "      <td>Male</td>\n",
       "    </tr>\n",
       "    <tr>\n",
       "      <th>3</th>\n",
       "      <td>_PRENOMS_RARES</td>\n",
       "      <td>1903.0</td>\n",
       "      <td>1286</td>\n",
       "      <td>Male</td>\n",
       "    </tr>\n",
       "    <tr>\n",
       "      <th>4</th>\n",
       "      <td>_PRENOMS_RARES</td>\n",
       "      <td>1904.0</td>\n",
       "      <td>1430</td>\n",
       "      <td>Male</td>\n",
       "    </tr>\n",
       "    <tr>\n",
       "      <th>5</th>\n",
       "      <td>_PRENOMS_RARES</td>\n",
       "      <td>1905.0</td>\n",
       "      <td>1472</td>\n",
       "      <td>Male</td>\n",
       "    </tr>\n",
       "    <tr>\n",
       "      <th>6</th>\n",
       "      <td>_PRENOMS_RARES</td>\n",
       "      <td>1906.0</td>\n",
       "      <td>1451</td>\n",
       "      <td>Male</td>\n",
       "    </tr>\n",
       "    <tr>\n",
       "      <th>7</th>\n",
       "      <td>_PRENOMS_RARES</td>\n",
       "      <td>1907.0</td>\n",
       "      <td>1514</td>\n",
       "      <td>Male</td>\n",
       "    </tr>\n",
       "    <tr>\n",
       "      <th>8</th>\n",
       "      <td>_PRENOMS_RARES</td>\n",
       "      <td>1908.0</td>\n",
       "      <td>1509</td>\n",
       "      <td>Male</td>\n",
       "    </tr>\n",
       "    <tr>\n",
       "      <th>9</th>\n",
       "      <td>_PRENOMS_RARES</td>\n",
       "      <td>1909.0</td>\n",
       "      <td>1526</td>\n",
       "      <td>Male</td>\n",
       "    </tr>\n",
       "  </tbody>\n",
       "</table>\n",
       "</div>"
      ],
      "text/plain": [
       "        firstname    year  count genre\n",
       "0  _PRENOMS_RARES  1900.0   1250  Male\n",
       "1  _PRENOMS_RARES  1901.0   1342  Male\n",
       "2  _PRENOMS_RARES  1902.0   1330  Male\n",
       "3  _PRENOMS_RARES  1903.0   1286  Male\n",
       "4  _PRENOMS_RARES  1904.0   1430  Male\n",
       "5  _PRENOMS_RARES  1905.0   1472  Male\n",
       "6  _PRENOMS_RARES  1906.0   1451  Male\n",
       "7  _PRENOMS_RARES  1907.0   1514  Male\n",
       "8  _PRENOMS_RARES  1908.0   1509  Male\n",
       "9  _PRENOMS_RARES  1909.0   1526  Male"
      ]
     },
     "execution_count": 26,
     "metadata": {},
     "output_type": "execute_result"
    }
   ],
   "source": [
    "# your code here\n",
    "\n",
    "data = pd.read_hdf(\"nat2020.hdf\")\n",
    "data.head(10)#petit bémol, les modifications à data n'ont pas été pris en compte"
   ]
  },
  {
   "cell_type": "markdown",
   "metadata": {
    "nteract": {
     "transient": {
      "deleting": false
     }
    }
   },
   "source": [
    "## Some data \"analytics\" and visualization\n",
    "\n",
    "**QUESTION**: For each year, compute the total number of Female and Male births and the proportion of Female  births among total births\n",
    "\n",
    "__Hints:__\n",
    "\n",
    "- Groupby operations using several columns for the groups return a dataframe with a `MultiIndex` index see [Pandas advanced](https://pandas.pydata.org/pandas-docs/stable/user_guide/advanced.html)\n",
    "\n",
    "- Have a look at `MultiIndex`, `reset_index`, `pivot`, `columns.droplevel`"
   ]
  },
  {
   "cell_type": "code",
   "execution_count": 28,
   "metadata": {
    "ExecuteTime": {
     "end_time": "2022-01-30T12:57:39.886483Z",
     "start_time": "2022-01-30T12:57:39.696890Z"
    },
    "jupyter": {
     "outputs_hidden": false,
     "source_hidden": false
    },
    "nteract": {
     "transient": {
      "deleting": false
     }
    }
   },
   "outputs": [
    {
     "data": {
      "text/html": [
       "<div>\n",
       "<style scoped>\n",
       "    .dataframe tbody tr th:only-of-type {\n",
       "        vertical-align: middle;\n",
       "    }\n",
       "\n",
       "    .dataframe tbody tr th {\n",
       "        vertical-align: top;\n",
       "    }\n",
       "\n",
       "    .dataframe thead th {\n",
       "        text-align: right;\n",
       "    }\n",
       "</style>\n",
       "<table border=\"1\" class=\"dataframe\">\n",
       "  <thead>\n",
       "    <tr style=\"text-align: right;\">\n",
       "      <th>genre</th>\n",
       "      <th>Male</th>\n",
       "      <th>Female</th>\n",
       "    </tr>\n",
       "    <tr>\n",
       "      <th>year</th>\n",
       "      <th></th>\n",
       "      <th></th>\n",
       "    </tr>\n",
       "  </thead>\n",
       "  <tbody>\n",
       "    <tr>\n",
       "      <th>1918.0</th>\n",
       "      <td>169975</td>\n",
       "      <td>178545</td>\n",
       "    </tr>\n",
       "    <tr>\n",
       "      <th>1920.0</th>\n",
       "      <td>318031</td>\n",
       "      <td>330290</td>\n",
       "    </tr>\n",
       "    <tr>\n",
       "      <th>1938.0</th>\n",
       "      <td>282899</td>\n",
       "      <td>282628</td>\n",
       "    </tr>\n",
       "    <tr>\n",
       "      <th>1917.0</th>\n",
       "      <td>148323</td>\n",
       "      <td>158036</td>\n",
       "    </tr>\n",
       "    <tr>\n",
       "      <th>2015.0</th>\n",
       "      <td>397664</td>\n",
       "      <td>378390</td>\n",
       "    </tr>\n",
       "    <tr>\n",
       "      <th>1947.0</th>\n",
       "      <td>458363</td>\n",
       "      <td>434493</td>\n",
       "    </tr>\n",
       "    <tr>\n",
       "      <th>1919.0</th>\n",
       "      <td>188588</td>\n",
       "      <td>196925</td>\n",
       "    </tr>\n",
       "    <tr>\n",
       "      <th>1951.0</th>\n",
       "      <td>434956</td>\n",
       "      <td>414722</td>\n",
       "    </tr>\n",
       "    <tr>\n",
       "      <th>2005.0</th>\n",
       "      <td>407042</td>\n",
       "      <td>387311</td>\n",
       "    </tr>\n",
       "    <tr>\n",
       "      <th>2012.0</th>\n",
       "      <td>413657</td>\n",
       "      <td>393081</td>\n",
       "    </tr>\n",
       "  </tbody>\n",
       "</table>\n",
       "</div>"
      ],
      "text/plain": [
       "genre     Male  Female\n",
       "year                  \n",
       "1918.0  169975  178545\n",
       "1920.0  318031  330290\n",
       "1938.0  282899  282628\n",
       "1917.0  148323  158036\n",
       "2015.0  397664  378390\n",
       "1947.0  458363  434493\n",
       "1919.0  188588  196925\n",
       "1951.0  434956  414722\n",
       "2005.0  407042  387311\n",
       "2012.0  413657  393081"
      ]
     },
     "execution_count": 28,
     "metadata": {},
     "output_type": "execute_result"
    }
   ],
   "source": [
    "# your code here\n",
    "\n",
    "total_by_year = pd.pivot_table(data, index = 'year',columns='genre', values = 'count', aggfunc='sum')\n",
    "total_by_year.sample(10)"
   ]
  },
  {
   "cell_type": "markdown",
   "metadata": {
    "nteract": {
     "transient": {
      "deleting": false
     }
    }
   },
   "source": [
    "**QUESTION:** Plot the proportion of female births as a function of year. Don't forget: title, axes labels, ticks, scales, etc.\n",
    "\n",
    "Because of what we did before, the `plot` method of a `DataFrame` with be rendered using `plotly`, so you can use this. But you can use also `seaborn` or any other available plotting library that you want.\n",
    "\n",
    "__Hint:__ Mind the missing values in the `year` column"
   ]
  },
  {
   "cell_type": "code",
   "execution_count": null,
   "metadata": {
    "ExecuteTime": {
     "end_time": "2022-01-30T12:53:06.346528Z",
     "start_time": "2022-01-30T12:52:43.272Z"
    },
    "jupyter": {
     "outputs_hidden": false,
     "source_hidden": false
    },
    "nteract": {
     "transient": {
      "deleting": false
     }
    }
   },
   "outputs": [],
   "source": [
    "# your code here\n"
   ]
  },
  {
   "cell_type": "markdown",
   "metadata": {
    "nteract": {
     "transient": {
      "deleting": false
     }
    }
   },
   "source": [
    "**QUESTION:** Make any sensible comment about this plot.\n",
    "\n",
    "_Insert your answer here_\n",
    "\n",
    "> ..."
   ]
  },
  {
   "cell_type": "markdown",
   "metadata": {
    "nteract": {
     "transient": {
      "deleting": false
     }
    }
   },
   "source": [
    "**QUESTION:** Explore the fluctuations of sex ratio around its mean value since 1945.\n",
    "Plot deviations of sex ratio around its mean since 1945 as a function of time."
   ]
  },
  {
   "cell_type": "code",
   "execution_count": null,
   "metadata": {
    "ExecuteTime": {
     "end_time": "2022-01-30T12:53:06.347416Z",
     "start_time": "2022-01-30T12:52:43.279Z"
    },
    "jupyter": {
     "outputs_hidden": false,
     "source_hidden": false
    },
    "nteract": {
     "transient": {
      "deleting": false
     }
    }
   },
   "outputs": [],
   "source": [
    "# your code here\n"
   ]
  },
  {
   "cell_type": "markdown",
   "metadata": {
    "nteract": {
     "transient": {
      "deleting": false
     }
    }
   },
   "source": [
    "# Popular firstnames\n",
    "\n",
    "## The top-20 most popular firstnames since 1900\n",
    "\n",
    "**QUESTION:** For each firstname and sex (some names may be given to girls and boys), compute the total number of times this firstname has been given during `1900-2019`. Print the top 20 firstnames given and style your result dataframe using `background_gradient` for instance."
   ]
  },
  {
   "cell_type": "code",
   "execution_count": null,
   "metadata": {
    "ExecuteTime": {
     "end_time": "2022-01-30T12:53:06.348261Z",
     "start_time": "2022-01-30T12:52:43.281Z"
    },
    "jupyter": {
     "outputs_hidden": false,
     "source_hidden": false
    },
    "nteract": {
     "transient": {
      "deleting": false
     }
    }
   },
   "outputs": [],
   "source": [
    "# your code here\n"
   ]
  },
  {
   "cell_type": "markdown",
   "metadata": {
    "nteract": {
     "transient": {
      "deleting": false
     }
    }
   },
   "source": [
    "## Rare firstnames\n",
    "\n",
    "**QUESTION:** For each sex, plot the proportion of births given `_PRENOMS_RARES` as a function of the year."
   ]
  },
  {
   "cell_type": "code",
   "execution_count": null,
   "metadata": {
    "ExecuteTime": {
     "end_time": "2022-01-30T12:53:06.349098Z",
     "start_time": "2022-01-30T12:52:43.282Z"
    },
    "jupyter": {
     "outputs_hidden": false,
     "source_hidden": false
    },
    "nteract": {
     "transient": {
      "deleting": false
     }
    }
   },
   "outputs": [],
   "source": [
    "# your code here\n"
   ]
  },
  {
   "cell_type": "markdown",
   "metadata": {
    "nteract": {
     "transient": {
      "deleting": false
     }
    }
   },
   "source": [
    "# A study of the \"Marie\" firstname\n",
    "\n",
    "**QUESTION:** Plot the proportion of female births given name `'MARIE'` or `'MARIE-...'` (compounded names) as a function of the year.\n",
    "Proceed in such a way that the reader can see the share of compounded names. We are expecting an _area plot_.\n",
    "\n",
    "__Hints:__\n",
    "\n",
    "- Have a look at the `.str` accessor (to apply a string method over a whole column containing string)\n",
    "- Have a look at [r-graph-gallery: stacked area](https://www.r-graph-gallery.com/stacked-area-graph.html)  and\n",
    "at [ggplot documentation](https://ggplot2.tidyverse.org/reference/geom_ribbon.html). Pay attention on the way you stack the area corresponding to names matching pattern 'MARIE-.*' over or under the are corresponding to babies named 'MARIE'\n",
    "- See Graphique 3, page 48, de _L'archipel français_  de J. Fourquet. Le Seuil. Essais. Vol. 898.\n",
    "\n",
    "- Add annotation, 1st World War, Front Populaire, 2nd World War, 1968"
   ]
  },
  {
   "cell_type": "code",
   "execution_count": null,
   "metadata": {
    "ExecuteTime": {
     "end_time": "2022-01-30T12:53:06.350462Z",
     "start_time": "2022-01-30T12:52:43.284Z"
    },
    "jupyter": {
     "outputs_hidden": false,
     "source_hidden": false
    },
    "nteract": {
     "transient": {
      "deleting": false
     }
    }
   },
   "outputs": [],
   "source": [
    "# your code here\n"
   ]
  },
  {
   "cell_type": "markdown",
   "metadata": {
    "nteract": {
     "transient": {
      "deleting": false
     }
    }
   },
   "source": [
    "# Top 10 firstnames of year 2000\n",
    "\n",
    "**QUESTION:** For each sex, select the ten most popular names in year 2000, and plot the proportion\n",
    "of newborns given that name over time. Take into account that some names might have\n",
    "zero occurrence during certain years.\n",
    "\n",
    "__Hint:__ Leave aside the rows with '_PRENOMS_RARES'."
   ]
  },
  {
   "cell_type": "code",
   "execution_count": null,
   "metadata": {
    "ExecuteTime": {
     "end_time": "2022-01-30T12:53:06.351237Z",
     "start_time": "2022-01-30T12:52:43.285Z"
    },
    "jupyter": {
     "outputs_hidden": false,
     "source_hidden": false
    },
    "nteract": {
     "transient": {
      "deleting": false
     }
    }
   },
   "outputs": [],
   "source": [
    "# your code here\n"
   ]
  },
  {
   "cell_type": "markdown",
   "metadata": {
    "nteract": {
     "transient": {
      "deleting": false
     }
    }
   },
   "source": [
    "# Getting help\n",
    "\n",
    "- [pandas](https://pandas.pydata.org/pandas-docs/stable/reference/)\n",
    "\n",
    "- [plotly](https://plotly.com/python/) for animated plots\n",
    "\n",
    "- [stackoverflow](https://stackoverflow.com)\n",
    "\n",
    "- [stackoverflow: pandas](https://stackoverflow.com/questions/tagged/pandas)\n",
    "\n",
    "- [stackoverflow: plotly+python](https://stackoverflow.com/questions/tagged/plotly+python)\n",
    "\n",
    "- The US `babynames` analogue of the INSEE file has been a playground for data scientists,\n",
    " see [https://github.com/hadley/babynames](https://github.com/hadley/babynames)\n",
    "\n",
    "- Don't Repeat Yourself (DRY) principle  at [Wikipedia](https://en.wikipedia.org/wiki/Don%27t_repeat_yourself)"
   ]
  }
 ],
 "metadata": {
  "kernelspec": {
   "display_name": "Python 3",
   "language": "python",
   "name": "python3"
  },
  "language_info": {
   "codemirror_mode": {
    "name": "ipython",
    "version": 3
   },
   "file_extension": ".py",
   "mimetype": "text/x-python",
   "name": "python",
   "nbconvert_exporter": "python",
   "pygments_lexer": "ipython3",
   "version": "3.8.5"
  },
  "toc": {
   "base_numbering": 1,
   "nav_menu": {},
   "number_sections": true,
   "sideBar": true,
   "skip_h1_title": false,
   "title_cell": "Table of Contents",
   "title_sidebar": "Contents",
   "toc_cell": false,
   "toc_position": {
    "height": "516px",
    "left": "47px",
    "top": "111.125px",
    "width": "307.2px"
   },
   "toc_section_display": true,
   "toc_window_display": true
  }
 },
 "nbformat": 4,
 "nbformat_minor": 1
}
